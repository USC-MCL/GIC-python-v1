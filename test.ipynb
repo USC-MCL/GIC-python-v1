{
 "cells": [
  {
   "cell_type": "code",
   "execution_count": 1,
   "id": "e56a0ea5",
   "metadata": {},
   "outputs": [],
   "source": [
    "import numpy as np\n",
    "import os\n",
    "import pickle\n",
    "import copy \n",
    "import json\n",
    "import warnings\n",
    "warnings.filterwarnings(\"ignore\")\n",
    "from load_img import Load_from_Folder, Load_Images\n",
    "from evaluate import Time, MSE, PSNR\n",
    "from LANCZOS import LANCZOS\n",
    "from util import DownSample\n",
    "from GIC import GIC\n",
    "\n",
    "def run(par, train_path, n_train, test_path, n_test, ratio=4):\n",
    "    print('--- <START TRAIN> ---')\n",
    "    Y = Load_from_Folder(folder=train_path, color='YUV', ct=n_train)\n",
    "    Y = np.array(Y)\n",
    "    Y = DownSample(Y, ratio)\n",
    "    gic = GIC(par)\n",
    "    gic.fit(Y)\n",
    "   \n",
    "    print('--- <START TEST> ---')\n",
    "    Y = Load_from_Folder(folder=test_path, color='YUV', ct=10)\n",
    "    Y = np.array(Y)\n",
    "    Y = DownSample(Y, ratio)\n",
    "    stream, dc, save = gic.encode(Y)\n",
    "    iY = gic.decode(stream, dc)\n",
    "    print('MSE=%5.3f, PSNR=%3.5f'%(MSE(Y, iY), PSNR(Y, iY)))\n",
    "    return gic"
   ]
  },
  {
   "cell_type": "code",
   "execution_count": 2,
   "id": "98216d7f",
   "metadata": {},
   "outputs": [
    {
     "name": "stdout",
     "output_type": "stream",
     "text": [
      "{'n_hop': 6, 'win': {'hop1': [256, 128, 64, 32, 16, 8], 'hop2': [128, 64, 32, 16, 8, 4], 'hop3': [64, 32, 16, 8, 4], 'hop4': [32, 16, 8, 4], 'hop5': [16, 8, 4], 'hop6': [8, 4]}, 'MSE_TH': {'hop1': [-1, 0, 0, 10, 20, 30, 40], 'hop2': [-1, 0, 10, 20, 30, 40], 'hop3': [-1, 0, 0, 0, 0], 'hop4': [-1, 0, 0, 0], 'hop5': [-1, 0, 0], 'hop6': [-1, 0]}, 'n_clusters': {'hop1': [4, 4, 4, 4, 4, 4, 4], 'hop2': [4, 4, 4, 4, 4, 4], 'hop3': [4, 4, 4, 4, 4], 'hop4': [4, 4, 4, 4], 'hop5': [4, 4, 4], 'hop6': [4, 4]}, 'shape': {'hop1': [[-1, 1, 1, 1], [-1, 2, 2, 1], [-1, 4, 4, 1], [-1, 8, 8, 1], [-1, 16, 16, 1], [-1, 32, 32, 1]], 'hop2': [[-1, 1, 1, 1], [-1, 2, 2, 1], [-1, 4, 4, 1], [-1, 8, 8, 1], [-1, 16, 16, 1], [-1, 32, 32, 1]], 'hop3': [[-1, 1, 1, 1], [-1, 2, 2, 1], [-1, 4, 4, 1], [-1, 8, 8, 1], [-1, 16, 16, 1]], 'hop4': [[-1, 1, 1, 1], [-1, 2, 2, 1], [-1, 4, 4, 1], [-1, 8, 8, 1]], 'hop5': [[-1, 1, 1, 1], [-1, 2, 2, 1], [-1, 4, 4, 1]], 'hop6': [[-1, 1, 1, 1], [-1, 2, 2, 1]]}, 'n_components': {'hop1': [150, 150, 150, 150, 30, 20], 'hop2': [150, 150, 150, 30, 20, None], 'hop3': [150, 150, 30, 20, None], 'hop4': [150, 30, 20, None], 'hop5': [30, 20, None], 'hop6': [20, None]}, 'gpu': {'hop1': [False, False, False, False, False, False], 'hop2': [False, False, False, False, False, False], 'hop3': [False, False, False, False, False], 'hop4': [False, False, False, False], 'hop5': [False, False, False], 'hop6': [False, False]}}\n"
     ]
    }
   ],
   "source": [
    "with open('par_unit_test.json', 'r') as json_file:\n",
    "    par = json.load(json_file)\n",
    "print(par)"
   ]
  },
  {
   "cell_type": "code",
   "execution_count": 10,
   "id": "0b6bf821",
   "metadata": {},
   "outputs": [
    {
     "name": "stdout",
     "output_type": "stream",
     "text": [
      "--- <START TRAIN> ---\n",
      "   <RunTime> foreward:  0.2 s\n",
      "hop6\n",
      "MBVQ channel 3\n",
      "   <RunTime> backward:  1.3 s\n",
      "hop5\n",
      "MBVQ channel 3\n",
      "   <RunTime> backward:  2.6 s\n",
      "hop4\n",
      "MBVQ channel 3\n",
      "   <RunTime> backward:  4.1 s\n",
      "hop3\n",
      "MBVQ channel 3\n",
      "   <RunTime> backward:  7.1 s\n",
      "hop2\n",
      "MBVQ channel 3\n",
      "   <RunTime> backward: 13.2 s\n",
      "hop1\n",
      "MBVQ channel 3\n",
      "\n",
      "Training MSE: 30.212790997438034\n",
      "   <RunTime> foreward:  0.1 s\n",
      "hop6\n",
      "   <RunTime> backward:  0.0 s\n",
      "hop5\n",
      "   <RunTime> backward:  0.0 s\n",
      "hop4\n",
      "   <RunTime> backward:  0.0 s\n",
      "hop3\n",
      "   <RunTime> backward:  0.1 s\n",
      "hop2\n",
      "   <RunTime> backward:  0.3 s\n",
      "hop1\n",
      "\n",
      "Testing MSE: 30.212790997438034\n",
      "   <RunTime> fit: 82.8 s\n",
      "--- <START TEST> ---\n",
      "   <RunTime> foreward:  0.2 s\n",
      "hop6\n",
      "   <RunTime> backward:  0.0 s\n",
      "hop5\n",
      "   <RunTime> backward:  0.0 s\n",
      "hop4\n",
      "   <RunTime> backward:  0.0 s\n",
      "hop3\n",
      "   <RunTime> backward:  0.1 s\n",
      "hop2\n",
      "   <RunTime> backward:  0.4 s\n",
      "hop1\n",
      "\n",
      "Testing MSE: 835.5992747119213\n",
      "Hop-1\n",
      "   save tree:0.00519104\n",
      "  Level-0 Huffman 0.00002899 bpp\n",
      "  Level-1 Huffman 0.00006104 bpp\n",
      "  Level-2 Huffman 0.00027313 bpp\n",
      "  Level-3 Huffman 0.00098877 bpp\n",
      "  Level-4 Huffman 0.00661774 bpp\n",
      "  Level-5 Huffman 0.02784424 bpp\n",
      "Hop-2\n",
      "   save tree:0.00509338\n",
      "  Level-0 Huffman 0.00001526 bpp\n",
      "  Level-1 Huffman 0.00006104 bpp\n",
      "  Level-2 Huffman 0.00032349 bpp\n",
      "  Level-3 Huffman 0.00178528 bpp\n",
      "  Level-4 Huffman 0.00729370 bpp\n",
      "  Level-5 Huffman 0.02874756 bpp\n",
      "Hop-3\n",
      "   save tree:0.00129700\n",
      "  Level-0 Huffman 0.00001526 bpp\n",
      "  Level-1 Huffman 0.00006104 bpp\n",
      "  Level-2 Huffman 0.00040131 bpp\n",
      "  Level-3 Huffman 0.00150146 bpp\n",
      "  Level-4 Huffman 0.00781250 bpp\n",
      "Hop-4\n",
      "   save tree:0.00032043\n",
      "  Level-0 Huffman 0.00001526 bpp\n",
      "  Level-1 Huffman 0.00006104 bpp\n",
      "  Level-2 Huffman 0.00039063 bpp\n",
      "  Level-3 Huffman 0.00179596 bpp\n",
      "Hop-5\n",
      "   save tree:0.00007629\n",
      "  Level-0 Huffman 0.00001526 bpp\n",
      "  Level-1 Huffman 0.00008392 bpp\n",
      "  Level-2 Huffman 0.00050201 bpp\n",
      "Hop-6\n",
      "   save tree:0.00001526\n",
      "  Level-0 Huffman 0.00001831 bpp\n",
      "  Level-1 Huffman 0.00011292 bpp\n",
      "Bit rate 0.098820\n",
      "   <RunTime> encode:  1.7 s\n",
      "   <RunTime> decode:  0.4 s\n",
      "MSE=835.599, PSNR=18.91082\n"
     ]
    }
   ],
   "source": [
    "gic = run(par, \n",
    "          '/Users/alex/Desktop/proj/compression/data/train1k/', 8,\n",
    "          '/Users/alex/Desktop/proj/compression/data/test_1024/', 1)"
   ]
  },
  {
   "cell_type": "code",
   "execution_count": 21,
   "id": "a7e4196c",
   "metadata": {},
   "outputs": [],
   "source": [
    "for k in gic.MBMBVQ.km.keys():\n",
    "    km = gic.MBMBVQ.km[k]\n",
    "    for i in km.KM:\n",
    "        i.KM.KM = None\n",
    "        i.KM.saveObj=False\n",
    "with open('model.pkl', 'wb') as f:\n",
    "    pickle.dump(gic, f)"
   ]
  },
  {
   "cell_type": "code",
   "execution_count": 22,
   "id": "2502253f",
   "metadata": {},
   "outputs": [
    {
     "name": "stdout",
     "output_type": "stream",
     "text": [
      "   <RunTime> foreward:  0.2 s\n",
      "hop6\n",
      "   <RunTime> backward:  0.0 s\n",
      "hop5\n",
      "   <RunTime> backward:  0.0 s\n",
      "hop4\n",
      "   <RunTime> backward:  0.0 s\n",
      "hop3\n",
      "   <RunTime> backward:  0.1 s\n",
      "hop2\n",
      "   <RunTime> backward:  0.4 s\n",
      "hop1\n",
      "\n",
      "Testing MSE: 835.5992747119213\n",
      "Hop-1\n",
      "   save tree:0.00519104\n",
      "  Level-0 Huffman 0.00002899 bpp\n",
      "  Level-1 Huffman 0.00006104 bpp\n",
      "  Level-2 Huffman 0.00027313 bpp\n",
      "  Level-3 Huffman 0.00098877 bpp\n",
      "  Level-4 Huffman 0.00661774 bpp\n",
      "  Level-5 Huffman 0.02784424 bpp\n",
      "Hop-2\n",
      "   save tree:0.00509338\n",
      "  Level-0 Huffman 0.00001526 bpp\n",
      "  Level-1 Huffman 0.00006104 bpp\n",
      "  Level-2 Huffman 0.00032349 bpp\n",
      "  Level-3 Huffman 0.00178528 bpp\n",
      "  Level-4 Huffman 0.00729370 bpp\n",
      "  Level-5 Huffman 0.02874756 bpp\n",
      "Hop-3\n",
      "   save tree:0.00129700\n",
      "  Level-0 Huffman 0.00001526 bpp\n",
      "  Level-1 Huffman 0.00006104 bpp\n",
      "  Level-2 Huffman 0.00040131 bpp\n",
      "  Level-3 Huffman 0.00150146 bpp\n",
      "  Level-4 Huffman 0.00781250 bpp\n",
      "Hop-4\n",
      "   save tree:0.00032043\n",
      "  Level-0 Huffman 0.00001526 bpp\n",
      "  Level-1 Huffman 0.00006104 bpp\n",
      "  Level-2 Huffman 0.00039063 bpp\n",
      "  Level-3 Huffman 0.00179596 bpp\n",
      "Hop-5\n",
      "   save tree:0.00007629\n",
      "  Level-0 Huffman 0.00001526 bpp\n",
      "  Level-1 Huffman 0.00008392 bpp\n",
      "  Level-2 Huffman 0.00050201 bpp\n",
      "Hop-6\n",
      "   save tree:0.00001526\n",
      "  Level-0 Huffman 0.00001831 bpp\n",
      "  Level-1 Huffman 0.00011292 bpp\n",
      "Bit rate 0.098820\n",
      "   <RunTime> encode:  1.8 s\n",
      "   <RunTime> decode:  0.4 s\n",
      "MSE=835.599, PSNR=18.91082\n"
     ]
    }
   ],
   "source": [
    "with open('model.pkl', 'rb') as f:\n",
    "    gic = pickle.load(f)\n",
    "    \n",
    "Y = Load_from_Folder(folder='/Users/alex/Desktop/proj/compression/data/test_1024/', color='YUV', ct=10)\n",
    "Y = np.array(Y)\n",
    "Y = DownSample(Y, 4)\n",
    "stream, dc, save = gic.encode(Y)\n",
    "iY = gic.decode(stream, dc)\n",
    "print('MSE=%5.3f, PSNR=%3.5f'%(MSE(Y, iY), PSNR(Y, iY)))"
   ]
  },
  {
   "cell_type": "code",
   "execution_count": 5,
   "id": "8087aea9",
   "metadata": {},
   "outputs": [],
   "source": [
    "with open('gic_256-8.pkl', 'rb') as f:\n",
    "    gic = pickle.load(f)\n"
   ]
  },
  {
   "cell_type": "code",
   "execution_count": 10,
   "id": "cefc325e",
   "metadata": {},
   "outputs": [
    {
     "name": "stdout",
     "output_type": "stream",
     "text": [
      "   <RunTime> foreward:  0.0 s\n",
      "hop6\n"
     ]
    },
    {
     "ename": "AssertionError",
     "evalue": "",
     "output_type": "error",
     "traceback": [
      "\u001b[0;31m---------------------------------------------------------------------------\u001b[0m",
      "\u001b[0;31mAssertionError\u001b[0m                            Traceback (most recent call last)",
      "\u001b[0;32m<ipython-input-10-80db2979a9f0>\u001b[0m in \u001b[0;36m<module>\u001b[0;34m\u001b[0m\n\u001b[0;32m----> 1\u001b[0;31m \u001b[0mgic\u001b[0m\u001b[0;34m.\u001b[0m\u001b[0mencode\u001b[0m\u001b[0;34m(\u001b[0m\u001b[0mnp\u001b[0m\u001b[0;34m.\u001b[0m\u001b[0mrandom\u001b[0m\u001b[0;34m.\u001b[0m\u001b[0mrandint\u001b[0m\u001b[0;34m(\u001b[0m\u001b[0;36m0\u001b[0m\u001b[0;34m,\u001b[0m \u001b[0;36m255\u001b[0m\u001b[0;34m,\u001b[0m \u001b[0;34m(\u001b[0m\u001b[0;36m1\u001b[0m\u001b[0;34m,\u001b[0m\u001b[0;36m256\u001b[0m\u001b[0;34m,\u001b[0m\u001b[0;36m256\u001b[0m\u001b[0;34m,\u001b[0m\u001b[0;36m1\u001b[0m\u001b[0;34m)\u001b[0m\u001b[0;34m)\u001b[0m\u001b[0;34m.\u001b[0m\u001b[0mastype\u001b[0m\u001b[0;34m(\u001b[0m\u001b[0;34m'float32'\u001b[0m\u001b[0;34m)\u001b[0m\u001b[0;34m)\u001b[0m\u001b[0;34m\u001b[0m\u001b[0;34m\u001b[0m\u001b[0m\n\u001b[0m",
      "\u001b[0;32m~/Documents/GitHub/GIC-python-v1/evaluate.py\u001b[0m in \u001b[0;36mtimed\u001b[0;34m(*args, **kw)\u001b[0m\n\u001b[1;32m     12\u001b[0m     \u001b[0;32mdef\u001b[0m \u001b[0mtimed\u001b[0m\u001b[0;34m(\u001b[0m\u001b[0;34m*\u001b[0m\u001b[0margs\u001b[0m\u001b[0;34m,\u001b[0m \u001b[0;34m**\u001b[0m\u001b[0mkw\u001b[0m\u001b[0;34m)\u001b[0m\u001b[0;34m:\u001b[0m\u001b[0;34m\u001b[0m\u001b[0;34m\u001b[0m\u001b[0m\n\u001b[1;32m     13\u001b[0m         \u001b[0mts\u001b[0m \u001b[0;34m=\u001b[0m \u001b[0mtime\u001b[0m\u001b[0;34m.\u001b[0m\u001b[0mtime\u001b[0m\u001b[0;34m(\u001b[0m\u001b[0;34m)\u001b[0m\u001b[0;34m\u001b[0m\u001b[0;34m\u001b[0m\u001b[0m\n\u001b[0;32m---> 14\u001b[0;31m         \u001b[0mresult\u001b[0m \u001b[0;34m=\u001b[0m \u001b[0mmethod\u001b[0m\u001b[0;34m(\u001b[0m\u001b[0;34m*\u001b[0m\u001b[0margs\u001b[0m\u001b[0;34m,\u001b[0m \u001b[0;34m**\u001b[0m\u001b[0mkw\u001b[0m\u001b[0;34m)\u001b[0m\u001b[0;34m\u001b[0m\u001b[0;34m\u001b[0m\u001b[0m\n\u001b[0m\u001b[1;32m     15\u001b[0m         \u001b[0mte\u001b[0m \u001b[0;34m=\u001b[0m \u001b[0mtime\u001b[0m\u001b[0;34m.\u001b[0m\u001b[0mtime\u001b[0m\u001b[0;34m(\u001b[0m\u001b[0;34m)\u001b[0m\u001b[0;34m\u001b[0m\u001b[0;34m\u001b[0m\u001b[0m\n\u001b[1;32m     16\u001b[0m         \u001b[0mprint\u001b[0m\u001b[0;34m(\u001b[0m\u001b[0;34m\"   <RunTime> %s: %4.1f s\"\u001b[0m\u001b[0;34m%\u001b[0m\u001b[0;34m(\u001b[0m\u001b[0mmethod\u001b[0m\u001b[0;34m.\u001b[0m\u001b[0m__name__\u001b[0m\u001b[0;34m,\u001b[0m \u001b[0;34m(\u001b[0m\u001b[0mte\u001b[0m \u001b[0;34m-\u001b[0m \u001b[0mts\u001b[0m\u001b[0;34m)\u001b[0m\u001b[0;34m)\u001b[0m\u001b[0;34m)\u001b[0m\u001b[0;34m\u001b[0m\u001b[0;34m\u001b[0m\u001b[0m\n",
      "\u001b[0;32m~/Documents/GitHub/GIC-python-v1/GIC.py\u001b[0m in \u001b[0;36mencode\u001b[0;34m(self, Y)\u001b[0m\n\u001b[1;32m     37\u001b[0m     \u001b[0;32mdef\u001b[0m \u001b[0mencode\u001b[0m\u001b[0;34m(\u001b[0m\u001b[0mself\u001b[0m\u001b[0;34m,\u001b[0m \u001b[0mY\u001b[0m\u001b[0;34m)\u001b[0m\u001b[0;34m:\u001b[0m\u001b[0;34m\u001b[0m\u001b[0;34m\u001b[0m\u001b[0m\n\u001b[1;32m     38\u001b[0m         \u001b[0mself\u001b[0m\u001b[0;34m.\u001b[0m\u001b[0mchange_n_img\u001b[0m\u001b[0;34m(\u001b[0m\u001b[0mY\u001b[0m\u001b[0;34m.\u001b[0m\u001b[0mshape\u001b[0m\u001b[0;34m[\u001b[0m\u001b[0;36m0\u001b[0m\u001b[0;34m]\u001b[0m\u001b[0;34m)\u001b[0m\u001b[0;34m\u001b[0m\u001b[0;34m\u001b[0m\u001b[0m\n\u001b[0;32m---> 39\u001b[0;31m         \u001b[0msave\u001b[0m \u001b[0;34m=\u001b[0m \u001b[0mself\u001b[0m\u001b[0;34m.\u001b[0m\u001b[0mMBMBVQ\u001b[0m\u001b[0;34m.\u001b[0m\u001b[0mencode\u001b[0m\u001b[0;34m(\u001b[0m\u001b[0mY\u001b[0m\u001b[0;34m)\u001b[0m\u001b[0;34m\u001b[0m\u001b[0;34m\u001b[0m\u001b[0m\n\u001b[0m\u001b[1;32m     40\u001b[0m         \u001b[0mstream\u001b[0m \u001b[0;34m=\u001b[0m \u001b[0mself\u001b[0m\u001b[0;34m.\u001b[0m\u001b[0mEC\u001b[0m\u001b[0;34m.\u001b[0m\u001b[0mencode\u001b[0m\u001b[0;34m(\u001b[0m\u001b[0msave\u001b[0m\u001b[0;34m,\u001b[0m \u001b[0mS\u001b[0m\u001b[0;34m=\u001b[0m\u001b[0mY\u001b[0m\u001b[0;34m.\u001b[0m\u001b[0mshape\u001b[0m\u001b[0;34m[\u001b[0m\u001b[0;36m1\u001b[0m\u001b[0;34m]\u001b[0m\u001b[0;34m)\u001b[0m\u001b[0;34m\u001b[0m\u001b[0;34m\u001b[0m\u001b[0m\n\u001b[1;32m     41\u001b[0m         \u001b[0;32mreturn\u001b[0m \u001b[0mstream\u001b[0m\u001b[0;34m,\u001b[0m \u001b[0msave\u001b[0m\u001b[0;34m[\u001b[0m\u001b[0;34m'DC'\u001b[0m\u001b[0;34m]\u001b[0m\u001b[0;34m,\u001b[0m \u001b[0msave\u001b[0m\u001b[0;34m\u001b[0m\u001b[0;34m\u001b[0m\u001b[0m\n",
      "\u001b[0;32m~/Documents/GitHub/GIC-python-v1/MBMBVQ.py\u001b[0m in \u001b[0;36mencode\u001b[0;34m(self, Y)\u001b[0m\n\u001b[1;32m    268\u001b[0m                                      \u001b[0mDC\u001b[0m\u001b[0;34m[\u001b[0m\u001b[0;34m'hop'\u001b[0m\u001b[0;34m+\u001b[0m\u001b[0mstr\u001b[0m\u001b[0;34m(\u001b[0m\u001b[0mi\u001b[0m\u001b[0;34m-\u001b[0m\u001b[0;36m1\u001b[0m\u001b[0;34m)\u001b[0m\u001b[0;34m]\u001b[0m\u001b[0;34m,\u001b[0m\u001b[0;34m\u001b[0m\u001b[0;34m\u001b[0m\u001b[0m\n\u001b[1;32m    269\u001b[0m                                      \u001b[0;34m'hop'\u001b[0m\u001b[0;34m+\u001b[0m\u001b[0mstr\u001b[0m\u001b[0;34m(\u001b[0m\u001b[0mi\u001b[0m\u001b[0;34m)\u001b[0m\u001b[0;34m,\u001b[0m\u001b[0;34m\u001b[0m\u001b[0;34m\u001b[0m\u001b[0m\n\u001b[0;32m--> 270\u001b[0;31m                                      fit=False)\n\u001b[0m\u001b[1;32m    271\u001b[0m             \u001b[0mnewAC\u001b[0m \u001b[0;34m=\u001b[0m \u001b[0mLANCZOS\u001b[0m\u001b[0;34m.\u001b[0m\u001b[0minv_split\u001b[0m\u001b[0;34m(\u001b[0m\u001b[0merr\u001b[0m\u001b[0;34m,\u001b[0m \u001b[0mAC\u001b[0m\u001b[0;34m[\u001b[0m\u001b[0;34m'hop'\u001b[0m\u001b[0;34m+\u001b[0m\u001b[0mstr\u001b[0m\u001b[0;34m(\u001b[0m\u001b[0mi\u001b[0m\u001b[0;34m-\u001b[0m\u001b[0;36m1\u001b[0m\u001b[0;34m)\u001b[0m\u001b[0;34m]\u001b[0m\u001b[0;34m)\u001b[0m\u001b[0;34m\u001b[0m\u001b[0;34m\u001b[0m\u001b[0m\n\u001b[1;32m    272\u001b[0m         \u001b[0;31m# Hop1\u001b[0m\u001b[0;34m\u001b[0m\u001b[0;34m\u001b[0m\u001b[0;34m\u001b[0m\u001b[0m\n",
      "\u001b[0;32m~/Documents/GitHub/GIC-python-v1/evaluate.py\u001b[0m in \u001b[0;36mtimed\u001b[0;34m(*args, **kw)\u001b[0m\n\u001b[1;32m     12\u001b[0m     \u001b[0;32mdef\u001b[0m \u001b[0mtimed\u001b[0m\u001b[0;34m(\u001b[0m\u001b[0;34m*\u001b[0m\u001b[0margs\u001b[0m\u001b[0;34m,\u001b[0m \u001b[0;34m**\u001b[0m\u001b[0mkw\u001b[0m\u001b[0;34m)\u001b[0m\u001b[0;34m:\u001b[0m\u001b[0;34m\u001b[0m\u001b[0;34m\u001b[0m\u001b[0m\n\u001b[1;32m     13\u001b[0m         \u001b[0mts\u001b[0m \u001b[0;34m=\u001b[0m \u001b[0mtime\u001b[0m\u001b[0;34m.\u001b[0m\u001b[0mtime\u001b[0m\u001b[0;34m(\u001b[0m\u001b[0;34m)\u001b[0m\u001b[0;34m\u001b[0m\u001b[0;34m\u001b[0m\u001b[0m\n\u001b[0;32m---> 14\u001b[0;31m         \u001b[0mresult\u001b[0m \u001b[0;34m=\u001b[0m \u001b[0mmethod\u001b[0m\u001b[0;34m(\u001b[0m\u001b[0;34m*\u001b[0m\u001b[0margs\u001b[0m\u001b[0;34m,\u001b[0m \u001b[0;34m**\u001b[0m\u001b[0mkw\u001b[0m\u001b[0;34m)\u001b[0m\u001b[0;34m\u001b[0m\u001b[0;34m\u001b[0m\u001b[0m\n\u001b[0m\u001b[1;32m     15\u001b[0m         \u001b[0mte\u001b[0m \u001b[0;34m=\u001b[0m \u001b[0mtime\u001b[0m\u001b[0;34m.\u001b[0m\u001b[0mtime\u001b[0m\u001b[0;34m(\u001b[0m\u001b[0;34m)\u001b[0m\u001b[0;34m\u001b[0m\u001b[0;34m\u001b[0m\u001b[0m\n\u001b[1;32m     16\u001b[0m         \u001b[0mprint\u001b[0m\u001b[0;34m(\u001b[0m\u001b[0;34m\"   <RunTime> %s: %4.1f s\"\u001b[0m\u001b[0;34m%\u001b[0m\u001b[0;34m(\u001b[0m\u001b[0mmethod\u001b[0m\u001b[0;34m.\u001b[0m\u001b[0m__name__\u001b[0m\u001b[0;34m,\u001b[0m \u001b[0;34m(\u001b[0m\u001b[0mte\u001b[0m \u001b[0;34m-\u001b[0m \u001b[0mts\u001b[0m\u001b[0;34m)\u001b[0m\u001b[0;34m)\u001b[0m\u001b[0;34m)\u001b[0m\u001b[0;34m\u001b[0m\u001b[0;34m\u001b[0m\u001b[0m\n",
      "\u001b[0;32m~/Documents/GitHub/GIC-python-v1/MBMBVQ.py\u001b[0m in \u001b[0;36mbackward\u001b[0;34m(self, ACn, DCn, DCn_1, myhash, fit, gpu)\u001b[0m\n\u001b[1;32m    185\u001b[0m                                           \u001b[0mself\u001b[0m\u001b[0;34m.\u001b[0m\u001b[0mpar\u001b[0m\u001b[0;34m[\u001b[0m\u001b[0;34m'MSE_TH'\u001b[0m\u001b[0;34m]\u001b[0m\u001b[0;34m[\u001b[0m\u001b[0mmyhash\u001b[0m\u001b[0;34m]\u001b[0m\u001b[0;34m,\u001b[0m\u001b[0;34m\u001b[0m\u001b[0;34m\u001b[0m\u001b[0m\n\u001b[1;32m    186\u001b[0m                                           self.par['n_components'][myhash]).fit(ACn, gpu)\n\u001b[0;32m--> 187\u001b[0;31m         \u001b[0mlabeln\u001b[0m\u001b[0;34m,\u001b[0m \u001b[0midxn\u001b[0m \u001b[0;34m=\u001b[0m \u001b[0mself\u001b[0m\u001b[0;34m.\u001b[0m\u001b[0mkm\u001b[0m\u001b[0;34m[\u001b[0m\u001b[0mmyhash\u001b[0m\u001b[0;34m]\u001b[0m\u001b[0;34m.\u001b[0m\u001b[0mpredict\u001b[0m\u001b[0;34m(\u001b[0m\u001b[0mACn\u001b[0m\u001b[0;34m)\u001b[0m\u001b[0;34m\u001b[0m\u001b[0;34m\u001b[0m\u001b[0m\n\u001b[0m\u001b[1;32m    188\u001b[0m         \u001b[0miACn\u001b[0m \u001b[0;34m=\u001b[0m \u001b[0mself\u001b[0m\u001b[0;34m.\u001b[0m\u001b[0mkm\u001b[0m\u001b[0;34m[\u001b[0m\u001b[0mmyhash\u001b[0m\u001b[0;34m]\u001b[0m\u001b[0;34m.\u001b[0m\u001b[0minverse_predict\u001b[0m\u001b[0;34m(\u001b[0m\u001b[0mlabeln\u001b[0m\u001b[0;34m,\u001b[0m \u001b[0midxn\u001b[0m\u001b[0;34m)\u001b[0m\u001b[0;34m\u001b[0m\u001b[0;34m\u001b[0m\u001b[0m\n\u001b[1;32m    189\u001b[0m         \u001b[0miDCn_1\u001b[0m \u001b[0;34m=\u001b[0m \u001b[0mLANCZOS\u001b[0m\u001b[0;34m.\u001b[0m\u001b[0minv_split\u001b[0m\u001b[0;34m(\u001b[0m\u001b[0mDCn\u001b[0m\u001b[0;34m,\u001b[0m \u001b[0miACn\u001b[0m\u001b[0;34m)\u001b[0m\u001b[0;34m\u001b[0m\u001b[0;34m\u001b[0m\u001b[0m\n",
      "\u001b[0;32m~/Documents/GitHub/GIC-python-v1/MBMBVQ.py\u001b[0m in \u001b[0;36mpredict\u001b[0;34m(self, X)\u001b[0m\n\u001b[1;32m    136\u001b[0m         \u001b[0mlabel\u001b[0m\u001b[0;34m,\u001b[0m \u001b[0midx\u001b[0m \u001b[0;34m=\u001b[0m \u001b[0;34m[\u001b[0m\u001b[0;34m]\u001b[0m\u001b[0;34m,\u001b[0m \u001b[0;34m[\u001b[0m\u001b[0;34m]\u001b[0m\u001b[0;34m\u001b[0m\u001b[0;34m\u001b[0m\u001b[0m\n\u001b[1;32m    137\u001b[0m         \u001b[0mres\u001b[0m \u001b[0;34m=\u001b[0m \u001b[0mShrink\u001b[0m\u001b[0;34m(\u001b[0m\u001b[0mcopy\u001b[0m\u001b[0;34m.\u001b[0m\u001b[0mdeepcopy\u001b[0m\u001b[0;34m(\u001b[0m\u001b[0mX\u001b[0m\u001b[0;34m)\u001b[0m\u001b[0;34m,\u001b[0m \u001b[0mself\u001b[0m\u001b[0;34m.\u001b[0m\u001b[0mwin\u001b[0m\u001b[0;34m[\u001b[0m\u001b[0;36m0\u001b[0m\u001b[0;34m]\u001b[0m\u001b[0;34m)\u001b[0m\u001b[0;34m\u001b[0m\u001b[0;34m\u001b[0m\u001b[0m\n\u001b[0;32m--> 138\u001b[0;31m         \u001b[0ml\u001b[0m \u001b[0;34m=\u001b[0m \u001b[0mself\u001b[0m\u001b[0;34m.\u001b[0m\u001b[0mKM\u001b[0m\u001b[0;34m[\u001b[0m\u001b[0;36m0\u001b[0m\u001b[0;34m]\u001b[0m\u001b[0;34m.\u001b[0m\u001b[0mpredict\u001b[0m\u001b[0;34m(\u001b[0m\u001b[0mres\u001b[0m\u001b[0;34m)\u001b[0m\u001b[0;34m\u001b[0m\u001b[0;34m\u001b[0m\u001b[0m\n\u001b[0m\u001b[1;32m    139\u001b[0m         \u001b[0mlabel\u001b[0m\u001b[0;34m.\u001b[0m\u001b[0mappend\u001b[0m\u001b[0;34m(\u001b[0m\u001b[0ml\u001b[0m\u001b[0;34m)\u001b[0m\u001b[0;34m\u001b[0m\u001b[0;34m\u001b[0m\u001b[0m\n\u001b[1;32m    140\u001b[0m         \u001b[0miX\u001b[0m \u001b[0;34m=\u001b[0m \u001b[0mself\u001b[0m\u001b[0;34m.\u001b[0m\u001b[0mKM\u001b[0m\u001b[0;34m[\u001b[0m\u001b[0;36m0\u001b[0m\u001b[0;34m]\u001b[0m\u001b[0;34m.\u001b[0m\u001b[0minverse_predict\u001b[0m\u001b[0;34m(\u001b[0m\u001b[0ml\u001b[0m\u001b[0;34m)\u001b[0m\u001b[0;34m\u001b[0m\u001b[0;34m\u001b[0m\u001b[0m\n",
      "\u001b[0;32m~/Documents/GitHub/GIC-python-v1/MBMBVQ.py\u001b[0m in \u001b[0;36mpredict\u001b[0;34m(self, res)\u001b[0m\n\u001b[1;32m     25\u001b[0m         \u001b[0;32mif\u001b[0m \u001b[0mself\u001b[0m\u001b[0;34m.\u001b[0m\u001b[0mn_components\u001b[0m \u001b[0;32mis\u001b[0m \u001b[0;32mnot\u001b[0m \u001b[0;32mNone\u001b[0m\u001b[0;34m:\u001b[0m\u001b[0;34m\u001b[0m\u001b[0;34m\u001b[0m\u001b[0m\n\u001b[1;32m     26\u001b[0m             \u001b[0mres\u001b[0m \u001b[0;34m=\u001b[0m \u001b[0mself\u001b[0m\u001b[0;34m.\u001b[0m\u001b[0mpca\u001b[0m\u001b[0;34m.\u001b[0m\u001b[0mtransform\u001b[0m\u001b[0;34m(\u001b[0m\u001b[0mres\u001b[0m\u001b[0;34m)\u001b[0m\u001b[0;34m\u001b[0m\u001b[0;34m\u001b[0m\u001b[0m\n\u001b[0;32m---> 27\u001b[0;31m         \u001b[0mlabel\u001b[0m \u001b[0;34m=\u001b[0m \u001b[0mself\u001b[0m\u001b[0;34m.\u001b[0m\u001b[0mKM\u001b[0m\u001b[0;34m.\u001b[0m\u001b[0mpredict\u001b[0m\u001b[0;34m(\u001b[0m\u001b[0mres\u001b[0m\u001b[0;34m)\u001b[0m\u001b[0;34m\u001b[0m\u001b[0;34m\u001b[0m\u001b[0m\n\u001b[0m\u001b[1;32m     28\u001b[0m         \u001b[0;32mreturn\u001b[0m \u001b[0mlabel\u001b[0m\u001b[0;34m\u001b[0m\u001b[0;34m\u001b[0m\u001b[0m\n\u001b[1;32m     29\u001b[0m \u001b[0;34m\u001b[0m\u001b[0m\n",
      "\u001b[0;32m~/Documents/GitHub/GIC-python-v1/myKMeans.py\u001b[0m in \u001b[0;36mpredict\u001b[0;34m(self, X)\u001b[0m\n\u001b[1;32m    130\u001b[0m             \u001b[0midx\u001b[0m \u001b[0;34m=\u001b[0m \u001b[0mself\u001b[0m\u001b[0;34m.\u001b[0m\u001b[0mKM\u001b[0m\u001b[0;34m.\u001b[0m\u001b[0mpredict\u001b[0m\u001b[0;34m(\u001b[0m\u001b[0mX\u001b[0m\u001b[0;34m)\u001b[0m\u001b[0;34m\u001b[0m\u001b[0;34m\u001b[0m\u001b[0m\n\u001b[1;32m    131\u001b[0m         \u001b[0;32melse\u001b[0m\u001b[0;34m:\u001b[0m\u001b[0;34m\u001b[0m\u001b[0;34m\u001b[0m\u001b[0m\n\u001b[0;32m--> 132\u001b[0;31m             \u001b[0midx\u001b[0m \u001b[0;34m=\u001b[0m \u001b[0mself\u001b[0m\u001b[0;34m.\u001b[0m\u001b[0mCpredict\u001b[0m\u001b[0;34m(\u001b[0m\u001b[0mX\u001b[0m\u001b[0;34m)\u001b[0m\u001b[0;34m\u001b[0m\u001b[0;34m\u001b[0m\u001b[0m\n\u001b[0m\u001b[1;32m    133\u001b[0m         \u001b[0;32mif\u001b[0m \u001b[0mself\u001b[0m\u001b[0;34m.\u001b[0m\u001b[0msort\u001b[0m \u001b[0;34m==\u001b[0m \u001b[0;32mTrue\u001b[0m\u001b[0;34m:\u001b[0m\u001b[0;34m\u001b[0m\u001b[0;34m\u001b[0m\u001b[0m\n\u001b[1;32m    134\u001b[0m             \u001b[0midx\u001b[0m \u001b[0;34m=\u001b[0m \u001b[0mself\u001b[0m\u001b[0;34m.\u001b[0m\u001b[0mMP\u001b[0m\u001b[0;34m.\u001b[0m\u001b[0mtransform\u001b[0m\u001b[0;34m(\u001b[0m\u001b[0midx\u001b[0m\u001b[0;34m)\u001b[0m\u001b[0;34m\u001b[0m\u001b[0;34m\u001b[0m\u001b[0m\n",
      "\u001b[0;32m~/Documents/GitHub/GIC-python-v1/myKMeans.py\u001b[0m in \u001b[0;36mCpredict\u001b[0;34m(self, X)\u001b[0m\n\u001b[1;32m    120\u001b[0m         \u001b[0mindex\u001b[0m \u001b[0;34m=\u001b[0m \u001b[0mfaiss\u001b[0m\u001b[0;34m.\u001b[0m\u001b[0mIndexFlatL2\u001b[0m\u001b[0;34m(\u001b[0m\u001b[0mself\u001b[0m\u001b[0;34m.\u001b[0m\u001b[0mcluster_centers_\u001b[0m\u001b[0;34m.\u001b[0m\u001b[0mshape\u001b[0m\u001b[0;34m[\u001b[0m\u001b[0;36m1\u001b[0m\u001b[0;34m]\u001b[0m\u001b[0;34m)\u001b[0m\u001b[0;34m\u001b[0m\u001b[0;34m\u001b[0m\u001b[0m\n\u001b[1;32m    121\u001b[0m         \u001b[0mindex\u001b[0m\u001b[0;34m.\u001b[0m\u001b[0madd\u001b[0m\u001b[0;34m(\u001b[0m\u001b[0mself\u001b[0m\u001b[0;34m.\u001b[0m\u001b[0mcluster_centers_\u001b[0m\u001b[0;34m)\u001b[0m\u001b[0;34m\u001b[0m\u001b[0;34m\u001b[0m\u001b[0m\n\u001b[0;32m--> 122\u001b[0;31m         \u001b[0mD\u001b[0m\u001b[0;34m,\u001b[0m \u001b[0mI\u001b[0m \u001b[0;34m=\u001b[0m \u001b[0mindex\u001b[0m\u001b[0;34m.\u001b[0m\u001b[0msearch\u001b[0m\u001b[0;34m(\u001b[0m\u001b[0mX\u001b[0m\u001b[0;34m,\u001b[0m \u001b[0;36m1\u001b[0m\u001b[0;34m)\u001b[0m\u001b[0;34m\u001b[0m\u001b[0;34m\u001b[0m\u001b[0m\n\u001b[0m\u001b[1;32m    123\u001b[0m         \u001b[0;32mreturn\u001b[0m \u001b[0mI\u001b[0m\u001b[0;34m\u001b[0m\u001b[0;34m\u001b[0m\u001b[0m\n\u001b[1;32m    124\u001b[0m \u001b[0;34m\u001b[0m\u001b[0m\n",
      "\u001b[0;32m/Library/Frameworks/Python.framework/Versions/3.7/lib/python3.7/site-packages/faiss/__init__.py\u001b[0m in \u001b[0;36mreplacement_search\u001b[0;34m(self, x, k)\u001b[0m\n\u001b[1;32m    115\u001b[0m     \u001b[0;32mdef\u001b[0m \u001b[0mreplacement_search\u001b[0m\u001b[0;34m(\u001b[0m\u001b[0mself\u001b[0m\u001b[0;34m,\u001b[0m \u001b[0mx\u001b[0m\u001b[0;34m,\u001b[0m \u001b[0mk\u001b[0m\u001b[0;34m)\u001b[0m\u001b[0;34m:\u001b[0m\u001b[0;34m\u001b[0m\u001b[0;34m\u001b[0m\u001b[0m\n\u001b[1;32m    116\u001b[0m         \u001b[0mn\u001b[0m\u001b[0;34m,\u001b[0m \u001b[0md\u001b[0m \u001b[0;34m=\u001b[0m \u001b[0mx\u001b[0m\u001b[0;34m.\u001b[0m\u001b[0mshape\u001b[0m\u001b[0;34m\u001b[0m\u001b[0;34m\u001b[0m\u001b[0m\n\u001b[0;32m--> 117\u001b[0;31m         \u001b[0;32massert\u001b[0m \u001b[0md\u001b[0m \u001b[0;34m==\u001b[0m \u001b[0mself\u001b[0m\u001b[0;34m.\u001b[0m\u001b[0md\u001b[0m\u001b[0;34m\u001b[0m\u001b[0;34m\u001b[0m\u001b[0m\n\u001b[0m\u001b[1;32m    118\u001b[0m         \u001b[0mdistances\u001b[0m \u001b[0;34m=\u001b[0m \u001b[0mnp\u001b[0m\u001b[0;34m.\u001b[0m\u001b[0mempty\u001b[0m\u001b[0;34m(\u001b[0m\u001b[0;34m(\u001b[0m\u001b[0mn\u001b[0m\u001b[0;34m,\u001b[0m \u001b[0mk\u001b[0m\u001b[0;34m)\u001b[0m\u001b[0;34m,\u001b[0m \u001b[0mdtype\u001b[0m\u001b[0;34m=\u001b[0m\u001b[0mnp\u001b[0m\u001b[0;34m.\u001b[0m\u001b[0mfloat32\u001b[0m\u001b[0;34m)\u001b[0m\u001b[0;34m\u001b[0m\u001b[0;34m\u001b[0m\u001b[0m\n\u001b[1;32m    119\u001b[0m         \u001b[0mlabels\u001b[0m \u001b[0;34m=\u001b[0m \u001b[0mnp\u001b[0m\u001b[0;34m.\u001b[0m\u001b[0mempty\u001b[0m\u001b[0;34m(\u001b[0m\u001b[0;34m(\u001b[0m\u001b[0mn\u001b[0m\u001b[0;34m,\u001b[0m \u001b[0mk\u001b[0m\u001b[0;34m)\u001b[0m\u001b[0;34m,\u001b[0m \u001b[0mdtype\u001b[0m\u001b[0;34m=\u001b[0m\u001b[0mnp\u001b[0m\u001b[0;34m.\u001b[0m\u001b[0mint64\u001b[0m\u001b[0;34m)\u001b[0m\u001b[0;34m\u001b[0m\u001b[0;34m\u001b[0m\u001b[0m\n",
      "\u001b[0;31mAssertionError\u001b[0m: "
     ]
    }
   ],
   "source": [
    "x = np.random.randint(0, 255, (1,256,256,1)).astype('float32')\n",
    "print(x.shape)\n",
    "gic.encode()"
   ]
  },
  {
   "cell_type": "code",
   "execution_count": null,
   "id": "54fc1099",
   "metadata": {},
   "outputs": [],
   "source": []
  }
 ],
 "metadata": {
  "kernelspec": {
   "display_name": "Python 3",
   "language": "python",
   "name": "python3"
  },
  "language_info": {
   "codemirror_mode": {
    "name": "ipython",
    "version": 3
   },
   "file_extension": ".py",
   "mimetype": "text/x-python",
   "name": "python",
   "nbconvert_exporter": "python",
   "pygments_lexer": "ipython3",
   "version": "3.7.9"
  }
 },
 "nbformat": 4,
 "nbformat_minor": 5
}
