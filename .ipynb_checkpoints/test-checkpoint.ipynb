{
 "cells": [
  {
   "cell_type": "code",
   "execution_count": 1,
   "id": "e56a0ea5",
   "metadata": {},
   "outputs": [],
   "source": [
    "import numpy as np\n",
    "import os\n",
    "import pickle\n",
    "import copy \n",
    "import json\n",
    "import warnings\n",
    "warnings.filterwarnings(\"ignore\")\n",
    "from load_img import Load_from_Folder, Load_Images\n",
    "from evaluate import Time, MSE, PSNR\n",
    "from LANCZOS import LANCZOS\n",
    "from util import DownSample\n",
    "from GIC import GIC\n",
    "\n",
    "def run(par, train_path, n_train, test_path, n_test, ratio=4):\n",
    "    print('--- <START TRAIN> ---')\n",
    "    Y = Load_from_Folder(folder=train_path, color='YUV', ct=n_train)\n",
    "    Y = np.array(Y)\n",
    "    Y = DownSample(Y, ratio)\n",
    "    gic = GIC(par)\n",
    "    gic.fit(Y)\n",
    "   \n",
    "    print('--- <START TEST> ---')\n",
    "    Y = Load_from_Folder(folder=test_path, color='YUV', ct=10)\n",
    "    Y = np.array(Y)\n",
    "    Y = DownSample(Y, ratio)\n",
    "    stream, dc, save = gic.encode(Y)\n",
    "    iY = gic.decode(stream, dc)\n",
    "    print('MSE=%5.3f, PSNR=%3.5f'%(MSE(Y, iY), PSNR(Y, iY)))\n",
    "    return gic"
   ]
  },
  {
   "cell_type": "code",
   "execution_count": 2,
   "id": "98216d7f",
   "metadata": {},
   "outputs": [
    {
     "name": "stdout",
     "output_type": "stream",
     "text": [
      "{'n_hop': 6, 'win': {'hop1': [256, 128, 64, 32, 16, 8], 'hop2': [128, 64, 32, 16, 8, 4], 'hop3': [64, 32, 16, 8, 4], 'hop4': [32, 16, 8, 4], 'hop5': [16, 8, 4], 'hop6': [8, 4]}, 'MSE_TH': {'hop1': [-1, 0, 0, 10, 20, 30, 40], 'hop2': [-1, 0, 10, 20, 30, 40], 'hop3': [-1, 0, 0, 0, 0], 'hop4': [-1, 0, 0, 0], 'hop5': [-1, 0, 0], 'hop6': [-1, 0]}, 'n_clusters': {'hop1': [4, 4, 4, 4, 4, 4, 4], 'hop2': [4, 4, 4, 4, 4, 4], 'hop3': [4, 4, 4, 4, 4], 'hop4': [4, 4, 4, 4], 'hop5': [4, 4, 4], 'hop6': [4, 4]}, 'shape': {'hop1': [[-1, 1, 1, 1], [-1, 2, 2, 1], [-1, 4, 4, 1], [-1, 8, 8, 1], [-1, 16, 16, 1], [-1, 32, 32, 1]], 'hop2': [[-1, 1, 1, 1], [-1, 2, 2, 1], [-1, 4, 4, 1], [-1, 8, 8, 1], [-1, 16, 16, 1], [-1, 32, 32, 1]], 'hop3': [[-1, 1, 1, 1], [-1, 2, 2, 1], [-1, 4, 4, 1], [-1, 8, 8, 1], [-1, 16, 16, 1]], 'hop4': [[-1, 1, 1, 1], [-1, 2, 2, 1], [-1, 4, 4, 1], [-1, 8, 8, 1]], 'hop5': [[-1, 1, 1, 1], [-1, 2, 2, 1], [-1, 4, 4, 1]], 'hop6': [[-1, 1, 1, 1], [-1, 2, 2, 1]]}, 'n_components': {'hop1': [150, 150, 150, 150, 30, 20], 'hop2': [150, 150, 150, 30, 20, None], 'hop3': [150, 150, 30, 20, None], 'hop4': [150, 30, 20, None], 'hop5': [30, 20, None], 'hop6': [20, None]}, 'gpu': {'hop1': [False, False, False, False, False, False], 'hop2': [False, False, False, False, False, False], 'hop3': [False, False, False, False, False], 'hop4': [False, False, False, False], 'hop5': [False, False, False], 'hop6': [False, False]}}\n"
     ]
    }
   ],
   "source": [
    "with open('par_unit_test.json', 'r') as json_file:\n",
    "    par = json.load(json_file)\n",
    "print(par)"
   ]
  },
  {
   "cell_type": "code",
   "execution_count": null,
   "id": "0b6bf821",
   "metadata": {},
   "outputs": [
    {
     "name": "stdout",
     "output_type": "stream",
     "text": [
      "--- <START TRAIN> ---\n",
      "   <RunTime> foreward:  0.2 s\n",
      "hop6\n",
      "MBVQ channel 3\n",
      "   <RunTime> backward:  1.3 s\n",
      "hop5\n",
      "MBVQ channel 3\n",
      "   <RunTime> backward:  2.6 s\n",
      "hop4\n",
      "MBVQ channel 3\n",
      "   <RunTime> backward:  3.5 s\n",
      "hop3\n",
      "MBVQ channel 3\n",
      "   <RunTime> backward:  6.3 s\n",
      "hop2\n",
      "MBVQ channel 3\n",
      "   <RunTime> backward: 16.6 s\n",
      "hop1\n",
      "MBVQ channel 3\n",
      "\n",
      "Training MSE: 30.212790997438034\n",
      "   <RunTime> foreward:  0.1 s\n",
      "hop6\n",
      "   <RunTime> backward:  0.0 s\n",
      "hop5\n",
      "   <RunTime> backward:  0.0 s\n",
      "hop4\n",
      "   <RunTime> backward:  0.0 s\n",
      "hop3\n"
     ]
    }
   ],
   "source": [
    "gic = run(par, \n",
    "          '/Users/alex/Desktop/proj/compression/data/train1k/', 8,\n",
    "          '/Users/alex/Desktop/proj/compression/data/test_1024/', 1)"
   ]
  },
  {
   "cell_type": "code",
   "execution_count": null,
   "id": "a7e4196c",
   "metadata": {},
   "outputs": [],
   "source": []
  }
 ],
 "metadata": {
  "kernelspec": {
   "display_name": "Python 3",
   "language": "python",
   "name": "python3"
  },
  "language_info": {
   "codemirror_mode": {
    "name": "ipython",
    "version": 3
   },
   "file_extension": ".py",
   "mimetype": "text/x-python",
   "name": "python",
   "nbconvert_exporter": "python",
   "pygments_lexer": "ipython3",
   "version": "3.7.9"
  }
 },
 "nbformat": 4,
 "nbformat_minor": 5
}
